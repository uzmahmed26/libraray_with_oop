{
  "nbformat": 4,
  "nbformat_minor": 0,
  "metadata": {
    "colab": {
      "provenance": [],
      "authorship_tag": "ABX9TyNnNiVE4e0UlT7hyRwmZf4/",
      "include_colab_link": true
    },
    "kernelspec": {
      "name": "python3",
      "display_name": "Python 3"
    },
    "language_info": {
      "name": "python"
    }
  },
  "cells": [
    {
      "cell_type": "markdown",
      "metadata": {
        "id": "view-in-github",
        "colab_type": "text"
      },
      "source": [
        "<a href=\"https://colab.research.google.com/github/uzmahmed26/libraray_with_oop/blob/main/Library_System.ipynb\" target=\"_parent\"><img src=\"https://colab.research.google.com/assets/colab-badge.svg\" alt=\"Open In Colab\"/></a>"
      ]
    },
    {
      "cell_type": "code",
      "execution_count": 11,
      "metadata": {
        "colab": {
          "base_uri": "https://localhost:8080/"
        },
        "id": "vhchtPEbHkLs",
        "outputId": "20b51854-b539-41c1-ce75-5df6eece17e2"
      },
      "outputs": [
        {
          "output_type": "stream",
          "name": "stdout",
          "text": [
            "Poetry\n",
            "Allama iqbal\n",
            "True\n",
            "None\n",
            "None\n",
            "['Comedy', 'Tragedy']\n",
            "None\n",
            "['Comedy']\n"
          ]
        }
      ],
      "source": [
        "class Library():\n",
        "  def __init__(self, name, location):\n",
        "\n",
        "# Fetching the list again after removing\n",
        "\n",
        "    self.books = []\n",
        "    self.lib_name = name\n",
        "    self.lib_location = location\n",
        "\n",
        "# class methods/ functions\n",
        "  def add_book(self, new_book_name):\n",
        "      return self.books.append(new_book_name)\n",
        "\n",
        "  def remove_book(self, remove_book):\n",
        "      return self.books.remove(remove_book)\n",
        "\n",
        "  def get_book(self):\n",
        "      return self.books\n",
        "\n",
        "\n",
        "# Making an Obj/ Creating instance of a class\n",
        "# mylib = Library('The library', 'Karachi')\n",
        "# print(mylib.lib_name)\n",
        "# print(mylib.lib_location)\n",
        "\n",
        "class Book():\n",
        "  def __init__(self, name, author, availability):\n",
        "    self.book_name = name\n",
        "    self.author_name = author\n",
        "    self.availability = availability\n",
        "\n",
        "  def borrow(self):\n",
        "    self.availability\n",
        "\n",
        "\n",
        "# Instance of class\n",
        "\n",
        "book1 = Book('Poetry', 'Allama iqbal', True)\n",
        "print(book1.book_name)\n",
        "print(book1.author_name)\n",
        "print(book1.availability)\n",
        "\n",
        "\n",
        "book2 = Book('Comedy', 'Umer Sharif', True)\n",
        "book3 = Book('Tragedy', 'Ahmed', True)\n",
        "\n",
        "mylib2 = Library('The Library','Karachi')\n",
        "\n",
        "# Adding books to the list (In library)\n",
        "\n",
        "print(mylib2.add_book(book2.book_name))\n",
        "print(mylib2.add_book(book3.book_name))\n",
        "\n",
        "# Getting the list of books (In Library)\n",
        "print(mylib2.get_book())\n",
        "\n",
        "# Removing the book (In Library)\n",
        "print(mylib2.remove_book('Tragedy'))\n",
        "\n",
        "# Fetching the list again after removing\n",
        "print(mylib2.get_book())\n",
        "\n",
        "\n",
        "\n",
        "\n",
        ""
      ]
    }
  ]
}